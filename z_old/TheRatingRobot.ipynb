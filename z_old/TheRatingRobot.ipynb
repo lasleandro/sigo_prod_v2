{
 "cells": [
  {
   "cell_type": "code",
   "execution_count": 1,
   "metadata": {},
   "outputs": [],
   "source": [
    "import os\n",
    "import pandas as pd\n",
    "import sys\n",
    "import numpy as np\n",
    "import time\n",
    "import schedule\n",
    "\n",
    "sys.path.insert(0, './_modules')\n",
    "from db_functions import TheDB\n",
    "#from logging_module import getlogger\n",
    "from logging_module_v2 import StartLogger\n",
    "\n",
    "\n"
   ]
  },
  {
   "cell_type": "code",
   "execution_count": 2,
   "metadata": {},
   "outputs": [],
   "source": [
    "logging = StartLogger()"
   ]
  },
  {
   "cell_type": "code",
   "execution_count": null,
   "metadata": {},
   "outputs": [],
   "source": []
  },
  {
   "cell_type": "code",
   "execution_count": 3,
   "metadata": {},
   "outputs": [],
   "source": [
    "def EvalMean(cqdb):\n",
    "\n",
    "    df_emissary = cqdb.GetTable('Emissary')\n",
    "    df_rating = cqdb.GetTable('Rating')\n",
    "\n",
    "    df_rating['rating'] = df_rating['rating'].astype(float)\n",
    "    df_mean = df_rating.groupby('emissary_id')['rating'].apply(list).apply(np.mean).to_frame().reset_index()\n",
    "    df_mean.columns = ['emissary_id', 'avg']\n",
    "    df_mean\n",
    "    \n",
    "    \n",
    "    \n",
    "    return df_mean"
   ]
  },
  {
   "cell_type": "code",
   "execution_count": null,
   "metadata": {},
   "outputs": [],
   "source": []
  },
  {
   "cell_type": "code",
   "execution_count": null,
   "metadata": {},
   "outputs": [],
   "source": []
  },
  {
   "cell_type": "code",
   "execution_count": null,
   "metadata": {},
   "outputs": [],
   "source": []
  },
  {
   "cell_type": "code",
   "execution_count": 4,
   "metadata": {},
   "outputs": [],
   "source": [
    "## bots BD connections\n",
    "conn_dict = {'host':'localhost', 'database': 'brspcqadev',\n",
    "             'user':'root', 'password':'quito2020'}\n",
    "\n",
    "cqdb = TheDB(conn_dict)"
   ]
  },
  {
   "cell_type": "code",
   "execution_count": null,
   "metadata": {},
   "outputs": [],
   "source": []
  },
  {
   "cell_type": "code",
   "execution_count": 5,
   "metadata": {},
   "outputs": [
    {
     "ename": "KeyboardInterrupt",
     "evalue": "",
     "output_type": "error",
     "traceback": [
      "\u001b[0;31m---------------------------------------------------------------------------\u001b[0m",
      "\u001b[0;31mKeyboardInterrupt\u001b[0m                         Traceback (most recent call last)",
      "\u001b[0;32m<ipython-input-5-0d022ac133de>\u001b[0m in \u001b[0;36m<module>\u001b[0;34m\u001b[0m\n\u001b[1;32m     29\u001b[0m \u001b[0;34m\u001b[0m\u001b[0m\n\u001b[1;32m     30\u001b[0m     \u001b[0mschedule\u001b[0m\u001b[0;34m.\u001b[0m\u001b[0mrun_pending\u001b[0m\u001b[0;34m(\u001b[0m\u001b[0;34m)\u001b[0m\u001b[0;34m\u001b[0m\u001b[0;34m\u001b[0m\u001b[0m\n\u001b[0;32m---> 31\u001b[0;31m     \u001b[0mtime\u001b[0m\u001b[0;34m.\u001b[0m\u001b[0msleep\u001b[0m\u001b[0;34m(\u001b[0m\u001b[0;36m1\u001b[0m\u001b[0;34m)\u001b[0m\u001b[0;34m\u001b[0m\u001b[0;34m\u001b[0m\u001b[0m\n\u001b[0m",
      "\u001b[0;31mKeyboardInterrupt\u001b[0m: "
     ]
    }
   ],
   "source": [
    "## scheduler\n",
    "##############################\n",
    "def job():\n",
    "    '''\n",
    "    The job for the scheduler\n",
    "    '''\n",
    "\n",
    "    try:\n",
    "        df_mean = EvalMean(cqdb)\n",
    "        logging.info('Function EvalMean success: Average rating evaluated.')\n",
    "    except Exception as e:\n",
    "        logging.error('Function EvalMean error: {}'.format(e))\n",
    "        \n",
    "        \n",
    "    try:\n",
    "        df_queries = cqdb.MainUpdate(df_mean, 'Emissary')\n",
    "        logging.info('Method MainUpdate success: average rating updated in the DB.')\n",
    "    except Exception as e:\n",
    "        logging.error('Method MainUpdate error: {}'.format(e))\n",
    "        \n",
    "        \n",
    "    return\n",
    "##############################\n",
    "\n",
    "time_interval = 1\n",
    "schedule.every(time_interval).minutes.do(job)\n",
    "\n",
    "while True:\n",
    "\n",
    "    schedule.run_pending()\n",
    "    time.sleep(1)"
   ]
  },
  {
   "cell_type": "code",
   "execution_count": null,
   "metadata": {},
   "outputs": [],
   "source": []
  },
  {
   "cell_type": "code",
   "execution_count": null,
   "metadata": {},
   "outputs": [],
   "source": []
  },
  {
   "cell_type": "code",
   "execution_count": null,
   "metadata": {},
   "outputs": [],
   "source": []
  },
  {
   "cell_type": "code",
   "execution_count": null,
   "metadata": {},
   "outputs": [],
   "source": []
  }
 ],
 "metadata": {
  "kernelspec": {
   "display_name": "Python 3",
   "language": "python",
   "name": "python3"
  },
  "language_info": {
   "codemirror_mode": {
    "name": "ipython",
    "version": 3
   },
   "file_extension": ".py",
   "mimetype": "text/x-python",
   "name": "python",
   "nbconvert_exporter": "python",
   "pygments_lexer": "ipython3",
   "version": "3.7.4"
  }
 },
 "nbformat": 4,
 "nbformat_minor": 2
}
