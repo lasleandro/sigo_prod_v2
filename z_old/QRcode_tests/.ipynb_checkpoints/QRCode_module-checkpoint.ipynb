{
 "cells": [
  {
   "cell_type": "code",
   "execution_count": 5,
   "metadata": {},
   "outputs": [],
   "source": [
    "import pyzbar.pyzbar as pyzbar\n",
    "import numpy as np\n",
    "import cv2\n",
    "import matplotlib.pyplot as plt\n",
    "import matplotlib.image as mpimg\n",
    "from pdf2image import convert_from_path\n",
    "import os\n"
   ]
  },
  {
   "cell_type": "code",
   "execution_count": 30,
   "metadata": {},
   "outputs": [],
   "source": [
    "########################################################\n",
    "def decode(im): \n",
    "    '''\n",
    "    Find barcodes and QR codes\n",
    "    '''\n",
    "    decodedObjects = pyzbar.decode(im)\n",
    "\n",
    "    # Print results\n",
    "    for obj in decodedObjects:\n",
    "        print('Type : ', obj.type)\n",
    "        print('Data : ', obj.data,'\\n')\n",
    "        \n",
    "    \n",
    "    nobjects = len(decodedObjects)\n",
    "    \n",
    "    data_list = []\n",
    "    for item in decodedObjects:\n",
    "        data_list.append(item.data)\n",
    "    \n",
    "    \n",
    "\n",
    "    return data_list\n",
    "#######################################################\n",
    "\n",
    "\n"
   ]
  },
  {
   "cell_type": "code",
   "execution_count": 19,
   "metadata": {},
   "outputs": [
    {
     "name": "stdout",
     "output_type": "stream",
     "text": [
      "/home/leandro/Desktop/github_reps/sigo/QRcode_tests\n"
     ]
    }
   ],
   "source": [
    "cwd = os.getcwd()\n",
    "print(cwd)"
   ]
  },
  {
   "cell_type": "code",
   "execution_count": 20,
   "metadata": {},
   "outputs": [],
   "source": [
    "path_doc = os.path.join(cwd, 'test_QRcode.pdf')"
   ]
  },
  {
   "cell_type": "code",
   "execution_count": 34,
   "metadata": {},
   "outputs": [
    {
     "name": "stdout",
     "output_type": "stream",
     "text": [
      "1\n",
      "Type :  QRCODE\n",
      "Data :  b'Autos n. 0500625-41.2019.4.02.5101\\n#6262' \n",
      "\n"
     ]
    }
   ],
   "source": [
    "## extracting data\n",
    "data_list = []\n",
    "pages_list = convert_from_path(path_doc, 500)\n",
    "npages = len(pages_list)\n",
    "print(npages)\n",
    "\n",
    "\n",
    "for page in pages_list:\n",
    "    results = decode(page)\n",
    "    \n",
    "    for item in results:\n",
    "        if item != '':\n",
    "            data_list.append(item)"
   ]
  },
  {
   "cell_type": "code",
   "execution_count": null,
   "metadata": {},
   "outputs": [],
   "source": []
  },
  {
   "cell_type": "code",
   "execution_count": 35,
   "metadata": {},
   "outputs": [
    {
     "data": {
      "text/plain": [
       "[b'Autos n. 0500625-41.2019.4.02.5101\\n#6262']"
      ]
     },
     "execution_count": 35,
     "metadata": {},
     "output_type": "execute_result"
    }
   ],
   "source": [
    "data_list"
   ]
  },
  {
   "cell_type": "code",
   "execution_count": null,
   "metadata": {},
   "outputs": [],
   "source": []
  }
 ],
 "metadata": {
  "kernelspec": {
   "display_name": "Python 3",
   "language": "python",
   "name": "python3"
  },
  "language_info": {
   "codemirror_mode": {
    "name": "ipython",
    "version": 3
   },
   "file_extension": ".py",
   "mimetype": "text/x-python",
   "name": "python",
   "nbconvert_exporter": "python",
   "pygments_lexer": "ipython3",
   "version": "3.7.4"
  },
  "toc": {
   "base_numbering": 1,
   "nav_menu": {},
   "number_sections": true,
   "sideBar": true,
   "skip_h1_title": false,
   "title_cell": "Table of Contents",
   "title_sidebar": "Contents",
   "toc_cell": false,
   "toc_position": {},
   "toc_section_display": true,
   "toc_window_display": false
  }
 },
 "nbformat": 4,
 "nbformat_minor": 2
}
