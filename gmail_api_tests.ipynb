{
 "cells": [
  {
   "cell_type": "code",
   "execution_count": null,
   "metadata": {},
   "outputs": [],
   "source": [
    "%matplotlib inline\n",
    "\n",
    "import os\n",
    "import pandas as pd\n",
    "from tqdm import tqdm\n",
    "import sys\n",
    "import logging\n",
    "import matplotlib.pyplot as plt\n",
    "\n",
    "\n",
    "sys.path.insert(0, './_modules')\n",
    "from general_functions import clean_text, language, corpus_tool\n",
    "from path_definitions import control_dir, unigrams_dir, output_dir\n",
    "from orchestra_module import TheCollector\n",
    "from datetime import datetime\n",
    "from Gmail_module import GetCredentials, GetAttachments_v2, GetMessage_v2, ListMessagesMatchingQuery,\\\n",
    "GetBody, GetBody_v2, FDS, MailData, PrintMail\n",
    "\n",
    "plt.style.use('ggplot')"
   ]
  },
  {
   "cell_type": "code",
   "execution_count": null,
   "metadata": {},
   "outputs": [],
   "source": [
    "cwd = os.getcwd()\n",
    "## specifying the path to collect control:\n",
    "control_path = control_dir()\n"
   ]
  },
  {
   "cell_type": "code",
   "execution_count": null,
   "metadata": {},
   "outputs": [],
   "source": []
  },
  {
   "cell_type": "code",
   "execution_count": null,
   "metadata": {},
   "outputs": [],
   "source": []
  },
  {
   "cell_type": "code",
   "execution_count": null,
   "metadata": {},
   "outputs": [],
   "source": [
    "body_path = unigrams_dir()"
   ]
  },
  {
   "cell_type": "code",
   "execution_count": null,
   "metadata": {},
   "outputs": [],
   "source": [
    "output_path = output_dir()"
   ]
  },
  {
   "cell_type": "code",
   "execution_count": null,
   "metadata": {},
   "outputs": [],
   "source": []
  },
  {
   "cell_type": "code",
   "execution_count": null,
   "metadata": {},
   "outputs": [],
   "source": [
    "## use this\n",
    "output_test_path = os.path.join(cwd, '_output_tests')"
   ]
  },
  {
   "cell_type": "code",
   "execution_count": null,
   "metadata": {},
   "outputs": [],
   "source": []
  },
  {
   "cell_type": "code",
   "execution_count": null,
   "metadata": {},
   "outputs": [],
   "source": []
  },
  {
   "cell_type": "code",
   "execution_count": null,
   "metadata": {},
   "outputs": [],
   "source": []
  },
  {
   "cell_type": "code",
   "execution_count": null,
   "metadata": {},
   "outputs": [],
   "source": [
    "os.listdir(control_path)"
   ]
  },
  {
   "cell_type": "code",
   "execution_count": null,
   "metadata": {},
   "outputs": [],
   "source": []
  },
  {
   "cell_type": "code",
   "execution_count": null,
   "metadata": {},
   "outputs": [],
   "source": [
    "with open(os.path.join(control_path, 'subset_mail_error.dat'), 'r') as f:\n",
    "    mail_list = f.readlines()\n",
    "f.close()\n",
    "\n",
    "mail_list = [item.replace('\\n', '') for item in mail_list]\n",
    "mail_list"
   ]
  },
  {
   "cell_type": "code",
   "execution_count": null,
   "metadata": {},
   "outputs": [],
   "source": [
    "mail_list = [item.replace('\\n', '') for item in mail_list]\n",
    "mail_list = list(set(mail_list))\n",
    "mail_list"
   ]
  },
  {
   "cell_type": "code",
   "execution_count": null,
   "metadata": {},
   "outputs": [],
   "source": []
  },
  {
   "cell_type": "code",
   "execution_count": null,
   "metadata": {},
   "outputs": [],
   "source": [
    "## email problemático: 1717ae742f4a9059"
   ]
  },
  {
   "cell_type": "code",
   "execution_count": null,
   "metadata": {},
   "outputs": [],
   "source": [
    "\n"
   ]
  },
  {
   "cell_type": "code",
   "execution_count": null,
   "metadata": {},
   "outputs": [],
   "source": []
  },
  {
   "cell_type": "code",
   "execution_count": null,
   "metadata": {
    "scrolled": true
   },
   "outputs": [],
   "source": [
    "results = FDS(['171508ff03adfaee'], output_test_path, output_test_path)"
   ]
  },
  {
   "cell_type": "code",
   "execution_count": null,
   "metadata": {},
   "outputs": [],
   "source": []
  },
  {
   "cell_type": "code",
   "execution_count": null,
   "metadata": {},
   "outputs": [],
   "source": [
    "results"
   ]
  },
  {
   "cell_type": "code",
   "execution_count": null,
   "metadata": {},
   "outputs": [],
   "source": []
  },
  {
   "cell_type": "code",
   "execution_count": null,
   "metadata": {},
   "outputs": [],
   "source": []
  },
  {
   "cell_type": "code",
   "execution_count": null,
   "metadata": {},
   "outputs": [],
   "source": [
    "from googleapiclient.discovery import build\n",
    "## reading credentials:\n",
    "path_cred = os.path.join(cwd, '_modules', 'gmail_credentials')\n",
    "creds = GetCredentials(path_cred)\n",
    "\n",
    "user_id = 'me'\n",
    "## creating service\n",
    "## cache_discovery = False in order to fix a bug (https://github.com/googleapis/google-api-python-client/issues/817)\n",
    "service = build('gmail', 'v1', credentials=creds, cache_discovery=False)\n",
    "\n",
    "\n",
    "#try:\n",
    "message = service.users().messages().get(userId='me', id='17150243722cf702').execute()\n",
    "#except Exception as e: \n",
    "#    print(e)\n",
    "\n",
    "\n",
    "\n",
    "thread_id = message['threadId']\n",
    "payload = message['payload']\n",
    "header = payload['headers']"
   ]
  },
  {
   "cell_type": "code",
   "execution_count": null,
   "metadata": {},
   "outputs": [],
   "source": [
    "try:\n",
    "    message = service.users().messages().get(userId='me', id='1715afb62115f602').execute()\n",
    "except Exception as e: \n",
    "    print(e)\n",
    "\n",
    "\n",
    "\n",
    "thread_id = message['threadId']\n",
    "payload = message['payload']\n",
    "header = payload['headers']"
   ]
  },
  {
   "cell_type": "code",
   "execution_count": null,
   "metadata": {},
   "outputs": [],
   "source": []
  },
  {
   "cell_type": "code",
   "execution_count": null,
   "metadata": {},
   "outputs": [],
   "source": [
    "mail_list"
   ]
  },
  {
   "cell_type": "code",
   "execution_count": null,
   "metadata": {},
   "outputs": [],
   "source": [
    "for m_id in mail_list:\n",
    "    #m_id = mail['id']\n",
    "    print(m_id)\n",
    "    try: \n",
    "        message = service.users().messages().get(userId='me', id=m_id).execute()\n",
    "    except Exception as e:\n",
    "        print(\"Exception occurred\")\n",
    "\n",
    "        ## save error mails to file\n",
    "        filename = 'subset_mail_error.dat'\n",
    "        f = open(os.path.join(output_test_path, filename), 'a+')\n",
    "        f.write(str(m_id)+'\\n')\n",
    "        f.close()\n",
    "\n",
    "        continue"
   ]
  },
  {
   "cell_type": "code",
   "execution_count": null,
   "metadata": {},
   "outputs": [],
   "source": []
  },
  {
   "cell_type": "code",
   "execution_count": null,
   "metadata": {},
   "outputs": [],
   "source": [
    "for item in header:\n",
    "    if item['name'] == 'From':\n",
    "        sender = item['value']\n",
    "        print('From: {}'.format(sender))\n",
    "    if item['name'] == 'Date':\n",
    "        date = item['value']\n",
    "        print('Date: {}'.format(date))\n",
    "    if item['name'] == 'Subject':\n",
    "        subject = item['value']\n",
    "        print('Subject: {}'.format(subject))\n",
    "    if item['name'] == 'To':\n",
    "        destinataries = item['value']\n",
    "        destinataries_list = destinataries.split(',')\n",
    "        destinataries_list = [item.strip() for item in destinataries_list]"
   ]
  },
  {
   "cell_type": "code",
   "execution_count": null,
   "metadata": {},
   "outputs": [],
   "source": [
    "text = GetBody_v2(message)"
   ]
  },
  {
   "cell_type": "code",
   "execution_count": null,
   "metadata": {},
   "outputs": [],
   "source": [
    "print(text)"
   ]
  },
  {
   "cell_type": "code",
   "execution_count": null,
   "metadata": {},
   "outputs": [],
   "source": [
    "snippet = GetMessage_v2(message)"
   ]
  },
  {
   "cell_type": "code",
   "execution_count": null,
   "metadata": {},
   "outputs": [],
   "source": [
    "snippet"
   ]
  },
  {
   "cell_type": "code",
   "execution_count": null,
   "metadata": {},
   "outputs": [],
   "source": [
    "attachment_dict = GetAttachments_v2(message, output_test_path)"
   ]
  },
  {
   "cell_type": "code",
   "execution_count": null,
   "metadata": {},
   "outputs": [],
   "source": [
    "attachment_dict"
   ]
  },
  {
   "cell_type": "code",
   "execution_count": null,
   "metadata": {},
   "outputs": [],
   "source": []
  },
  {
   "cell_type": "markdown",
   "metadata": {},
   "source": [
    "### Testing TheCollector module:"
   ]
  },
  {
   "cell_type": "code",
   "execution_count": null,
   "metadata": {},
   "outputs": [],
   "source": [
    "%matplotlib inline\n",
    "\n",
    "import os\n",
    "import pandas as pd\n",
    "from tqdm import tqdm\n",
    "import sys\n",
    "import logging\n",
    "import matplotlib.pyplot as plt\n",
    "\n",
    "\n",
    "sys.path.insert(0, './_modules')\n",
    "from general_functions import clean_text, language, corpus_tool\n",
    "from path_definitions import control_dir, unigrams_dir, output_dir\n",
    "from orchestra_module import get_table, TheCollector\n",
    "from datetime import datetime\n",
    "from Gmail_module import GetCredentials, GetAttachments_v2, GetMessage_v2, ListMessagesMatchingQuery,\\\n",
    "GetBody, GetBody_v2, FDS, MailData, PrintMail\n",
    "\n",
    "plt.style.use('ggplot')"
   ]
  },
  {
   "cell_type": "code",
   "execution_count": null,
   "metadata": {},
   "outputs": [],
   "source": [
    "cwd = os.getcwd()\n",
    "## specifying the path to collect control:\n",
    "control_path = control_dir()"
   ]
  },
  {
   "cell_type": "code",
   "execution_count": null,
   "metadata": {},
   "outputs": [],
   "source": []
  },
  {
   "cell_type": "code",
   "execution_count": null,
   "metadata": {},
   "outputs": [],
   "source": []
  },
  {
   "cell_type": "code",
   "execution_count": null,
   "metadata": {},
   "outputs": [],
   "source": []
  },
  {
   "cell_type": "code",
   "execution_count": null,
   "metadata": {},
   "outputs": [],
   "source": [
    "## use this\n",
    "output_test_path = os.path.join(cwd, '_output_tests')"
   ]
  },
  {
   "cell_type": "code",
   "execution_count": null,
   "metadata": {},
   "outputs": [],
   "source": [
    "with open(os.path.join(control_path, 'subset_mail_error.dat'), 'r') as f:\n",
    "    mail_list = f.readlines()\n",
    "f.close()\n",
    "\n",
    "mail_list = [item.replace('\\n', '') for item in mail_list]\n",
    "mail_list"
   ]
  },
  {
   "cell_type": "code",
   "execution_count": null,
   "metadata": {},
   "outputs": [],
   "source": [
    "from googleapiclient.discovery import build\n",
    "## reading credentials:\n",
    "path_cred = os.path.join(cwd, '_modules', 'gmail_credentials')\n",
    "creds = GetCredentials(path_cred)\n",
    "\n",
    "user_id = 'me'\n",
    "## creating service\n",
    "## cache_discovery = False in order to fix a bug (https://github.com/googleapis/google-api-python-client/issues/817)\n",
    "service = build('gmail', 'v1', credentials=creds, cache_discovery=False)\n",
    "\n",
    "\n",
    "for mail_id in mail_list:\n",
    "    try:\n",
    "        print(mail_id)\n",
    "        message = service.users().messages().get(userId='me', id=mail_id).execute()\n",
    "        thread_id = message['threadId']\n",
    "        payload = message['payload']\n",
    "        header = payload['headers']        \n",
    "        \n",
    "        print('Ok!')\n",
    "        \n",
    "    except Exception as e: \n",
    "        print(e)\n",
    "\n",
    "\n",
    "\n",
    "    thread_id = message['threadId']\n",
    "    payload = message['payload']\n",
    "    header = payload['headers']"
   ]
  },
  {
   "cell_type": "code",
   "execution_count": null,
   "metadata": {},
   "outputs": [],
   "source": []
  },
  {
   "cell_type": "code",
   "execution_count": null,
   "metadata": {},
   "outputs": [],
   "source": []
  },
  {
   "cell_type": "code",
   "execution_count": null,
   "metadata": {},
   "outputs": [],
   "source": [
    "df, df_attachments_final, df_destiny_final = FDS(['1715afb62115f602'], output_test_path, output_test_path)"
   ]
  },
  {
   "cell_type": "code",
   "execution_count": null,
   "metadata": {},
   "outputs": [],
   "source": []
  },
  {
   "cell_type": "code",
   "execution_count": null,
   "metadata": {},
   "outputs": [],
   "source": [
    "## erro está associado com ids problemáticos. Ex: '1715afb62115f602'"
   ]
  },
  {
   "cell_type": "code",
   "execution_count": null,
   "metadata": {},
   "outputs": [],
   "source": [
    "df, df_attachments, df_to = TheCollector([['1715afb62115f602']], output_test_path, output_test_path)"
   ]
  },
  {
   "cell_type": "code",
   "execution_count": null,
   "metadata": {},
   "outputs": [],
   "source": []
  },
  {
   "cell_type": "code",
   "execution_count": null,
   "metadata": {},
   "outputs": [],
   "source": []
  },
  {
   "cell_type": "code",
   "execution_count": null,
   "metadata": {},
   "outputs": [],
   "source": []
  }
 ],
 "metadata": {
  "kernelspec": {
   "display_name": "Python 3",
   "language": "python",
   "name": "python3"
  },
  "language_info": {
   "codemirror_mode": {
    "name": "ipython",
    "version": 3
   },
   "file_extension": ".py",
   "mimetype": "text/x-python",
   "name": "python",
   "nbconvert_exporter": "python",
   "pygments_lexer": "ipython3",
   "version": "3.7.4"
  },
  "toc": {
   "base_numbering": 1,
   "nav_menu": {},
   "number_sections": true,
   "sideBar": true,
   "skip_h1_title": false,
   "title_cell": "Table of Contents",
   "title_sidebar": "Contents",
   "toc_cell": false,
   "toc_position": {},
   "toc_section_display": true,
   "toc_window_display": false
  }
 },
 "nbformat": 4,
 "nbformat_minor": 2
}
