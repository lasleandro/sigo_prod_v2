{
 "cells": [
  {
   "cell_type": "code",
   "execution_count": 1,
   "metadata": {},
   "outputs": [
    {
     "name": "stderr",
     "output_type": "stream",
     "text": [
      "/home/dev/anaconda3/lib/python3.7/site-packages/tqdm/std.py:648: FutureWarning: The Panel class is removed from pandas. Accessing it from the top-level namespace will also be removed in the next version\n",
      "  from pandas import Panel\n"
     ]
    }
   ],
   "source": [
    "%matplotlib inline\n",
    "\n",
    "import os\n",
    "import pandas as pd\n",
    "from tqdm import tqdm\n",
    "import sys\n",
    "import logging\n",
    "import matplotlib.pyplot as plt\n",
    "import numpy as np\n",
    "\n",
    "sys.path.insert(0, './_modules')\n",
    "from general_functions import clean_text, language, corpus_tool\n",
    "from path_definitions import control_dir, unigrams_dir, output_dir\n",
    "from db_functions import TheDB\n",
    "from datetime import datetime\n",
    "\n",
    "plt.style.use('ggplot')"
   ]
  },
  {
   "cell_type": "code",
   "execution_count": 2,
   "metadata": {},
   "outputs": [],
   "source": [
    "cwd = os.getcwd()"
   ]
  },
  {
   "cell_type": "code",
   "execution_count": null,
   "metadata": {},
   "outputs": [],
   "source": []
  },
  {
   "cell_type": "code",
   "execution_count": 3,
   "metadata": {},
   "outputs": [
    {
     "name": "stdout",
     "output_type": "stream",
     "text": [
      "Folder already exists.\n",
      "/home/dev/sigo_prod/_collect_control\n"
     ]
    }
   ],
   "source": [
    "## specifying the path to collect control:\n",
    "control_path = control_dir()"
   ]
  },
  {
   "cell_type": "code",
   "execution_count": null,
   "metadata": {},
   "outputs": [],
   "source": []
  },
  {
   "cell_type": "code",
   "execution_count": 4,
   "metadata": {},
   "outputs": [
    {
     "name": "stdout",
     "output_type": "stream",
     "text": [
      "Folder already exists.\n",
      "/home/dev/sigo_prod/_text_unigrams\n"
     ]
    }
   ],
   "source": [
    "body_path = unigrams_dir()"
   ]
  },
  {
   "cell_type": "code",
   "execution_count": 5,
   "metadata": {},
   "outputs": [
    {
     "name": "stdout",
     "output_type": "stream",
     "text": [
      "Folder already exists.\n",
      "/home/dev/sigo_prod/_data_output\n"
     ]
    }
   ],
   "source": [
    "output_path = output_dir()"
   ]
  },
  {
   "cell_type": "code",
   "execution_count": null,
   "metadata": {},
   "outputs": [],
   "source": []
  },
  {
   "cell_type": "code",
   "execution_count": null,
   "metadata": {},
   "outputs": [],
   "source": []
  },
  {
   "cell_type": "code",
   "execution_count": 6,
   "metadata": {
    "scrolled": true
   },
   "outputs": [
    {
     "data": {
      "text/plain": [
       "['pid_DataCollector.dat',\n",
       " 'to_data.csv',\n",
       " 'logging_app.log.20200703',\n",
       " 'att_data.csv',\n",
       " 'logging_app.log.20200701',\n",
       " 'log.csv',\n",
       " 'subset_mail_error.dat',\n",
       " 'mid_base.csv',\n",
       " 'logging_app.log.20200705',\n",
       " 'logging_app.log.20200702',\n",
       " 'logging_app.log',\n",
       " 'logging_app.log.20200704']"
      ]
     },
     "execution_count": 6,
     "metadata": {},
     "output_type": "execute_result"
    }
   ],
   "source": [
    "os.listdir(control_path)"
   ]
  },
  {
   "cell_type": "code",
   "execution_count": null,
   "metadata": {},
   "outputs": [],
   "source": []
  },
  {
   "cell_type": "markdown",
   "metadata": {},
   "source": [
    "### Getting the ids for mails with error:"
   ]
  },
  {
   "cell_type": "code",
   "execution_count": 7,
   "metadata": {},
   "outputs": [
    {
     "name": "stdout",
     "output_type": "stream",
     "text": [
      "['171502cf6ed56cc6', '171502660d110592', '1714feb2db0b61b7', '1713c2a8dd3b6afd', '17150243722cf702', '1714143ee497d01d', '171508ec3933aa3c', '171e5e7bf2c176c2', '1714fda8db9407cf', '1714fdccd36b8bad', '17237594be2323af', '171501e56dd86d1e', '171507a5afb7d261', '1727fda70c41e214', '17151311d3a03f2f', '1727fc246a286145', '17155d34ab66320e', '17155ea49ef1d656', '17141627af77d7d6', '1714fdca49174b27', '1725df32f72030fa', '17159d71791a7dfa', '1715afb62115f602', '171508ff03adfaee', '1725e08038416eb5', '1727fd3b013e76ed']\n"
     ]
    }
   ],
   "source": [
    "path_error = os.path.join(control_path, 'subset_mail_error.dat')\n",
    "error_mails_list = []\n",
    "if os.path.isfile(path_error) == True:\n",
    "    df_error = pd.read_table(path_error, header = None)\n",
    "    mail_list = list(set(df_error[0].tolist()))\n",
    "    print(mail_list)"
   ]
  },
  {
   "cell_type": "code",
   "execution_count": null,
   "metadata": {},
   "outputs": [],
   "source": []
  },
  {
   "cell_type": "code",
   "execution_count": null,
   "metadata": {},
   "outputs": [],
   "source": []
  },
  {
   "cell_type": "markdown",
   "metadata": {},
   "source": [
    "### Reading the log"
   ]
  },
  {
   "cell_type": "code",
   "execution_count": 8,
   "metadata": {},
   "outputs": [],
   "source": [
    "#path_log = os.path.join(control_path, 'logging_app.log')\n",
    "#f = open(path_log, 'r')\n",
    "#log_text_list = f.readlines()\n",
    "#f.close()\n",
    "\n",
    "#log_text = ' '.join(log_text_list)\n",
    "#print(log_text)"
   ]
  },
  {
   "cell_type": "code",
   "execution_count": null,
   "metadata": {},
   "outputs": [],
   "source": []
  },
  {
   "cell_type": "code",
   "execution_count": null,
   "metadata": {},
   "outputs": [],
   "source": []
  },
  {
   "cell_type": "markdown",
   "metadata": {},
   "source": [
    "### Reading the log csv"
   ]
  },
  {
   "cell_type": "code",
   "execution_count": 20,
   "metadata": {},
   "outputs": [
    {
     "data": {
      "text/html": [
       "<div>\n",
       "<style scoped>\n",
       "    .dataframe tbody tr th:only-of-type {\n",
       "        vertical-align: middle;\n",
       "    }\n",
       "\n",
       "    .dataframe tbody tr th {\n",
       "        vertical-align: top;\n",
       "    }\n",
       "\n",
       "    .dataframe thead th {\n",
       "        text-align: right;\n",
       "    }\n",
       "</style>\n",
       "<table border=\"1\" class=\"dataframe\">\n",
       "  <thead>\n",
       "    <tr style=\"text-align: right;\">\n",
       "      <th></th>\n",
       "      <th>step_time</th>\n",
       "      <th>new_mail_counter</th>\n",
       "      <th>total_mail_counter</th>\n",
       "      <th>query_type</th>\n",
       "    </tr>\n",
       "    <tr>\n",
       "      <th>date</th>\n",
       "      <th></th>\n",
       "      <th></th>\n",
       "      <th></th>\n",
       "      <th></th>\n",
       "    </tr>\n",
       "  </thead>\n",
       "  <tbody>\n",
       "    <tr>\n",
       "      <td>2020-07-06 22:28:36.241030</td>\n",
       "      <td>17.668253</td>\n",
       "      <td>26</td>\n",
       "      <td>21202</td>\n",
       "      <td>day</td>\n",
       "    </tr>\n",
       "    <tr>\n",
       "      <td>2020-07-06 22:18:17.843555</td>\n",
       "      <td>112.829502</td>\n",
       "      <td>27</td>\n",
       "      <td>21202</td>\n",
       "      <td>full</td>\n",
       "    </tr>\n",
       "    <tr>\n",
       "      <td>2020-07-06 22:06:24.289008</td>\n",
       "      <td>115.825443</td>\n",
       "      <td>29</td>\n",
       "      <td>21201</td>\n",
       "      <td>full</td>\n",
       "    </tr>\n",
       "    <tr>\n",
       "      <td>2020-07-06 21:54:27.743669</td>\n",
       "      <td>19.922323</td>\n",
       "      <td>28</td>\n",
       "      <td>21198</td>\n",
       "      <td>day</td>\n",
       "    </tr>\n",
       "    <tr>\n",
       "      <td>2020-07-06 21:44:07.104889</td>\n",
       "      <td>21.909947</td>\n",
       "      <td>28</td>\n",
       "      <td>21196</td>\n",
       "      <td>day</td>\n",
       "    </tr>\n",
       "    <tr>\n",
       "      <td>...</td>\n",
       "      <td>...</td>\n",
       "      <td>...</td>\n",
       "      <td>...</td>\n",
       "      <td>...</td>\n",
       "    </tr>\n",
       "    <tr>\n",
       "      <td>2020-03-03 23:50:12.700573</td>\n",
       "      <td>143.791224</td>\n",
       "      <td>48</td>\n",
       "      <td>13029</td>\n",
       "      <td>full</td>\n",
       "    </tr>\n",
       "    <tr>\n",
       "      <td>2020-03-03 23:36:14.584702</td>\n",
       "      <td>7201.863663</td>\n",
       "      <td>4130</td>\n",
       "      <td>12981</td>\n",
       "      <td>full</td>\n",
       "    </tr>\n",
       "    <tr>\n",
       "      <td>2020-03-03 17:01:42.205353</td>\n",
       "      <td>582.264245</td>\n",
       "      <td>11847</td>\n",
       "      <td>12981</td>\n",
       "      <td>full</td>\n",
       "    </tr>\n",
       "    <tr>\n",
       "      <td>2020-03-03 16:45:38.721364</td>\n",
       "      <td>673.728488</td>\n",
       "      <td>12216</td>\n",
       "      <td>12981</td>\n",
       "      <td>full</td>\n",
       "    </tr>\n",
       "    <tr>\n",
       "      <td>2020-03-03 11:18:03.154659</td>\n",
       "      <td>22414.498579</td>\n",
       "      <td>12978</td>\n",
       "      <td>12978</td>\n",
       "      <td>full</td>\n",
       "    </tr>\n",
       "  </tbody>\n",
       "</table>\n",
       "<p>10856 rows × 4 columns</p>\n",
       "</div>"
      ],
      "text/plain": [
       "                               step_time  new_mail_counter  \\\n",
       "date                                                         \n",
       "2020-07-06 22:28:36.241030     17.668253                26   \n",
       "2020-07-06 22:18:17.843555    112.829502                27   \n",
       "2020-07-06 22:06:24.289008    115.825443                29   \n",
       "2020-07-06 21:54:27.743669     19.922323                28   \n",
       "2020-07-06 21:44:07.104889     21.909947                28   \n",
       "...                                  ...               ...   \n",
       "2020-03-03 23:50:12.700573    143.791224                48   \n",
       "2020-03-03 23:36:14.584702   7201.863663              4130   \n",
       "2020-03-03 17:01:42.205353    582.264245             11847   \n",
       "2020-03-03 16:45:38.721364    673.728488             12216   \n",
       "2020-03-03 11:18:03.154659  22414.498579             12978   \n",
       "\n",
       "                            total_mail_counter query_type  \n",
       "date                                                       \n",
       "2020-07-06 22:28:36.241030               21202        day  \n",
       "2020-07-06 22:18:17.843555               21202       full  \n",
       "2020-07-06 22:06:24.289008               21201       full  \n",
       "2020-07-06 21:54:27.743669               21198        day  \n",
       "2020-07-06 21:44:07.104889               21196        day  \n",
       "...                                        ...        ...  \n",
       "2020-03-03 23:50:12.700573               13029       full  \n",
       "2020-03-03 23:36:14.584702               12981       full  \n",
       "2020-03-03 17:01:42.205353               12981       full  \n",
       "2020-03-03 16:45:38.721364               12981       full  \n",
       "2020-03-03 11:18:03.154659               12978       full  \n",
       "\n",
       "[10856 rows x 4 columns]"
      ]
     },
     "execution_count": 20,
     "metadata": {},
     "output_type": "execute_result"
    }
   ],
   "source": [
    "df_log = pd.read_csv(os.path.join(control_path, 'log.csv'), sep = '\\t', encoding = 'utf-8')\n",
    "df_log['date'] = pd.to_datetime(df_log['date'])\n",
    "df_log = df_log.sort_values('date', ascending = False)\n",
    "df_log = df_log.set_index('date')\n",
    "df_log"
   ]
  },
  {
   "cell_type": "code",
   "execution_count": null,
   "metadata": {},
   "outputs": [],
   "source": []
  },
  {
   "cell_type": "code",
   "execution_count": 21,
   "metadata": {},
   "outputs": [
    {
     "data": {
      "text/plain": [
       "<matplotlib.axes._subplots.AxesSubplot at 0x7efe92a28790>"
      ]
     },
     "execution_count": 21,
     "metadata": {},
     "output_type": "execute_result"
    },
    {
     "data": {
      "image/png": "[encoded data removed]",
      "text/plain": [
       "<Figure size 1080x360 with 1 Axes>"
      ]
     },
     "metadata": {
      "needs_background": "light"
     },
     "output_type": "display_data"
    }
   ],
   "source": [
    "df_log.resample('D')['new_mail_counter'].sum()['2020-03-04':].plot(figsize = [15,5])"
   ]
  },
  {
   "cell_type": "code",
   "execution_count": null,
   "metadata": {},
   "outputs": [],
   "source": []
  },
  {
   "cell_type": "code",
   "execution_count": 11,
   "metadata": {},
   "outputs": [
    {
     "name": "stdout",
     "output_type": "stream",
     "text": [
      "387\n"
     ]
    }
   ],
   "source": [
    "list_mail=df_log['2020-05-24']['new_mail_counter'].tolist()\n",
    "print(np.sum(list_mail))"
   ]
  },
  {
   "cell_type": "code",
   "execution_count": null,
   "metadata": {},
   "outputs": [],
   "source": [
    "\n"
   ]
  },
  {
   "cell_type": "code",
   "execution_count": null,
   "metadata": {},
   "outputs": [],
   "source": []
  },
  {
   "cell_type": "code",
   "execution_count": null,
   "metadata": {},
   "outputs": [],
   "source": []
  },
  {
   "cell_type": "code",
   "execution_count": null,
   "metadata": {},
   "outputs": [],
   "source": []
  },
  {
   "cell_type": "markdown",
   "metadata": {},
   "source": [
    "### Getting the full mail table"
   ]
  },
  {
   "cell_type": "code",
   "execution_count": null,
   "metadata": {},
   "outputs": [],
   "source": []
  },
  {
   "cell_type": "code",
   "execution_count": 12,
   "metadata": {},
   "outputs": [],
   "source": [
    "## bots BD connections\n",
    "conn_dict = {'host':'localhost', 'database': 'brspcqadev',\n",
    "             'user':'root', 'password':'quito2020'}\n",
    "\n",
    "cqdb_prod = TheDB(conn_dict)"
   ]
  },
  {
   "cell_type": "code",
   "execution_count": 13,
   "metadata": {},
   "outputs": [
    {
     "data": {
      "text/html": [
       "<div>\n",
       "<style scoped>\n",
       "    .dataframe tbody tr th:only-of-type {\n",
       "        vertical-align: middle;\n",
       "    }\n",
       "\n",
       "    .dataframe tbody tr th {\n",
       "        vertical-align: top;\n",
       "    }\n",
       "\n",
       "    .dataframe thead th {\n",
       "        text-align: right;\n",
       "    }\n",
       "</style>\n",
       "<table border=\"1\" class=\"dataframe\">\n",
       "  <thead>\n",
       "    <tr style=\"text-align: right;\">\n",
       "      <th></th>\n",
       "      <th>main_id</th>\n",
       "      <th>mail_id</th>\n",
       "      <th>thread_id</th>\n",
       "      <th>mail_date_received</th>\n",
       "      <th>mail_hms_received</th>\n",
       "      <th>mail_subject</th>\n",
       "      <th>mail_from</th>\n",
       "      <th>mail_body</th>\n",
       "      <th>mail_body_snippet</th>\n",
       "      <th>has_attachment</th>\n",
       "      <th>attachment_folder_link</th>\n",
       "      <th>case_id</th>\n",
       "      <th>external_ref_number</th>\n",
       "      <th>date_created</th>\n",
       "      <th>date_updated</th>\n",
       "      <th>checkd</th>\n",
       "      <th>mail_datetime_received</th>\n",
       "    </tr>\n",
       "  </thead>\n",
       "  <tbody>\n",
       "    <tr>\n",
       "      <td>0</td>\n",
       "      <td>20431</td>\n",
       "      <td>173204e94756418c</td>\n",
       "      <td>173204e94756418c</td>\n",
       "      <td>2020-07-05 18:48:05</td>\n",
       "      <td>18:48:05</td>\n",
       "      <td>FWD: [0-0910000031240] BR Data Request, Ext Re...</td>\n",
       "      <td>lis-latam@google.com</td>\n",
       "      <td>b'\\r\\n\\r\\nUrgent: 3 days deadline\\r\\n\\r\\nRecor...</td>\n",
       "      <td>Urgent: 3 days deadline Records #[005/2.20.000...</td>\n",
       "      <td>2</td>\n",
       "      <td>/home/dev/sigo_prod/_attachments/173204e94756418c</td>\n",
       "      <td>0-0910000031240</td>\n",
       "      <td>0002028-66.2020.8.21.0005</td>\n",
       "      <td>2020-07-05 19:31:43</td>\n",
       "      <td>2020-07-05 19:31:43</td>\n",
       "      <td>N</td>\n",
       "      <td>2020-07-05 18:48:05</td>\n",
       "    </tr>\n",
       "    <tr>\n",
       "      <td>1</td>\n",
       "      <td>20705</td>\n",
       "      <td>1731fb2f8e4d0333</td>\n",
       "      <td>172e8114b9fc31a2</td>\n",
       "      <td>2020-07-05 15:58:07</td>\n",
       "      <td>15:58:07</td>\n",
       "      <td>Re: [0-9910000030529] - FEDERAL - JFMG - c 202...</td>\n",
       "      <td>lis-latam@google.com</td>\n",
       "      <td>b'Hi team,\\r\\n\\r\\nOn July 3, LE withdrew the C...</td>\n",
       "      <td>Hi team, On July 3, LE withdrew the Case on LE...</td>\n",
       "      <td>1</td>\n",
       "      <td>/home/dev/sigo_prod/_attachments/1731fb2f8e4d0333</td>\n",
       "      <td>0-9910000030529</td>\n",
       "      <td>1018233-11.2020.4.01.3800</td>\n",
       "      <td>2020-07-05 19:42:59</td>\n",
       "      <td>2020-07-05 19:42:59</td>\n",
       "      <td>N</td>\n",
       "      <td>2020-07-05 15:58:07</td>\n",
       "    </tr>\n",
       "    <tr>\n",
       "      <td>2</td>\n",
       "      <td>17787</td>\n",
       "      <td>1731c6b040272500</td>\n",
       "      <td>1731c6b040272500</td>\n",
       "      <td>2020-07-05 00:40:39</td>\n",
       "      <td>00:40:39</td>\n",
       "      <td>Fwd: [3-1026000030833] Novo Fornecimento de Da...</td>\n",
       "      <td>lis-latam@google.com</td>\n",
       "      <td>b'\\r\\n\\r\\nUrgent - fines\\r\\n\\r\\nHi team,\\r\\n\\r...</td>\n",
       "      <td>Urgent - fines Hi team, Please see below the r...</td>\n",
       "      <td>2</td>\n",
       "      <td>/home/dev/sigo_prod/_attachments/1731c6b040272500</td>\n",
       "      <td>3-1026000030833</td>\n",
       "      <td>0050664-90.2020.8.06.0034</td>\n",
       "      <td>2020-07-05 14:21:29</td>\n",
       "      <td>2020-07-05 14:21:29</td>\n",
       "      <td>N</td>\n",
       "      <td>2020-07-05 00:40:39</td>\n",
       "    </tr>\n",
       "    <tr>\n",
       "      <td>3</td>\n",
       "      <td>20158</td>\n",
       "      <td>1731c45e53dfea27</td>\n",
       "      <td>1731c45e53dfea27</td>\n",
       "      <td>2020-07-05 00:00:08</td>\n",
       "      <td>00:00:08</td>\n",
       "      <td>FWD: [8-5284000030790] BR Data Request, Ext Re...</td>\n",
       "      <td>lis-latam@google.com</td>\n",
       "      <td>b'\\r\\n\\r\\nUrgent - 3 day deadline\\r\\n\\r\\nRecor...</td>\n",
       "      <td>Urgent - 3 day deadline Records # [005/2.20.00...</td>\n",
       "      <td>2</td>\n",
       "      <td>/home/dev/sigo_prod/_attachments/1731c45e53dfea27</td>\n",
       "      <td>8-5284000030790</td>\n",
       "      <td>0001977-55.2020.8.21.0005</td>\n",
       "      <td>2020-07-05 17:07:07</td>\n",
       "      <td>2020-07-05 17:07:07</td>\n",
       "      <td>N</td>\n",
       "      <td>2020-07-05 00:00:08</td>\n",
       "    </tr>\n",
       "    <tr>\n",
       "      <td>4</td>\n",
       "      <td>21322</td>\n",
       "      <td>1731c3e7602dd3bf</td>\n",
       "      <td>1731c3e7602dd3bf</td>\n",
       "      <td>2020-07-04 23:51:59</td>\n",
       "      <td>23:51:59</td>\n",
       "      <td>FWD: [1-7034000030875] BR Data Request, Ext Re...</td>\n",
       "      <td>lis-latam@google.com</td>\n",
       "      <td>b'\\r\\n\\r\\nUrgent - fines\\r\\n\\r\\nRecords # [005...</td>\n",
       "      <td>Urgent - fines Records # [0050664-90.2020.8.06...</td>\n",
       "      <td>2</td>\n",
       "      <td>/home/dev/sigo_prod/_attachments/1731c3e7602dd3bf</td>\n",
       "      <td>1-7034000030875</td>\n",
       "      <td>0050664-90.2020.8.06.0034</td>\n",
       "      <td>2020-07-05 20:25:32</td>\n",
       "      <td>2020-07-05 20:25:32</td>\n",
       "      <td>N</td>\n",
       "      <td>2020-07-04 23:51:59</td>\n",
       "    </tr>\n",
       "    <tr>\n",
       "      <td>...</td>\n",
       "      <td>...</td>\n",
       "      <td>...</td>\n",
       "      <td>...</td>\n",
       "      <td>...</td>\n",
       "      <td>...</td>\n",
       "      <td>...</td>\n",
       "      <td>...</td>\n",
       "      <td>...</td>\n",
       "      <td>...</td>\n",
       "      <td>...</td>\n",
       "      <td>...</td>\n",
       "      <td>...</td>\n",
       "      <td>...</td>\n",
       "      <td>...</td>\n",
       "      <td>...</td>\n",
       "      <td>...</td>\n",
       "      <td>...</td>\n",
       "    </tr>\n",
       "    <tr>\n",
       "      <td>21027</td>\n",
       "      <td>10228</td>\n",
       "      <td>16b6cb501fd2e09b</td>\n",
       "      <td>16b6cb501fd2e09b</td>\n",
       "      <td>2019-06-18 22:28:47</td>\n",
       "      <td>22:28:47</td>\n",
       "      <td>Diligência - Procuradoria da República no Rio ...</td>\n",
       "      <td>helena.rossi@carinaquito.com</td>\n",
       "      <td>b'Dra. Carolina,\\r\\n\\r\\n \\r\\n\\r\\nConforme fala...</td>\n",
       "      <td>Dra. Carolina, Conforme falamos mais cedo, env...</td>\n",
       "      <td>1</td>\n",
       "      <td>/home/dev/sigo_prod/_attachments/16b6cb501fd2e09b</td>\n",
       "      <td></td>\n",
       "      <td></td>\n",
       "      <td>2020-07-01 18:47:18</td>\n",
       "      <td>2020-07-01 18:47:18</td>\n",
       "      <td>N</td>\n",
       "      <td>2019-06-18 22:28:47</td>\n",
       "    </tr>\n",
       "    <tr>\n",
       "      <td>21028</td>\n",
       "      <td>15808</td>\n",
       "      <td>16b6cb4361be635d</td>\n",
       "      <td>16b6cb4361be635d</td>\n",
       "      <td>2019-06-18 22:27:56</td>\n",
       "      <td>22:27:56</td>\n",
       "      <td>Diligência - Delegacia de Polícia de Goianésia...</td>\n",
       "      <td>helena.rossi@carinaquito.com</td>\n",
       "      <td>b'Dra. Thalita,\\r\\n\\r\\n \\r\\n\\r\\nConforme falam...</td>\n",
       "      <td>Dra. Thalita, Conforme falamos, enviaremos por...</td>\n",
       "      <td>1</td>\n",
       "      <td>/home/dev/sigo_prod/_attachments/16b6cb4361be635d</td>\n",
       "      <td></td>\n",
       "      <td></td>\n",
       "      <td>2020-07-01 22:24:50</td>\n",
       "      <td>2020-07-01 22:24:50</td>\n",
       "      <td>N</td>\n",
       "      <td>2019-06-18 22:27:56</td>\n",
       "    </tr>\n",
       "    <tr>\n",
       "      <td>21029</td>\n",
       "      <td>18497</td>\n",
       "      <td>16b66762fb0fb689</td>\n",
       "      <td>16b66762fb0fb689</td>\n",
       "      <td>2019-06-17 17:22:28</td>\n",
       "      <td>17:22:28</td>\n",
       "      <td>Teste</td>\n",
       "      <td>paula.aragao@carinaquito.com</td>\n",
       "      <td>b' \\r\\n\\r\\n \\r\\n\\r\\n\\r\\n\\r\\n \\r\\n\\r\\n'</td>\n",
       "      <td></td>\n",
       "      <td>1</td>\n",
       "      <td>/home/dev/sigo_prod/_attachments/16b66762fb0fb689</td>\n",
       "      <td></td>\n",
       "      <td></td>\n",
       "      <td>2020-07-05 14:43:04</td>\n",
       "      <td>2020-07-05 14:43:04</td>\n",
       "      <td>N</td>\n",
       "      <td>2019-06-17 17:22:28</td>\n",
       "    </tr>\n",
       "    <tr>\n",
       "      <td>21030</td>\n",
       "      <td>5473</td>\n",
       "      <td>16b66603ebd89f26</td>\n",
       "      <td>16b66603ebd89f26</td>\n",
       "      <td>2019-06-17 16:58:32</td>\n",
       "      <td>16:58:32</td>\n",
       "      <td>Tips for using your new inbox</td>\n",
       "      <td>mail-noreply@google.com</td>\n",
       "      <td>b' Tips for using your new inbox\\r\\n[image: Go...</td>\n",
       "      <td>Hi Diligências Welcome to your Gmail inbox Sav...</td>\n",
       "      <td>1</td>\n",
       "      <td>/home/dev/sigo_prod/_attachments/16b66603ebd89f26</td>\n",
       "      <td></td>\n",
       "      <td></td>\n",
       "      <td>2020-07-01 14:57:03</td>\n",
       "      <td>2020-07-01 14:57:03</td>\n",
       "      <td>N</td>\n",
       "      <td>2019-06-17 16:58:32</td>\n",
       "    </tr>\n",
       "    <tr>\n",
       "      <td>21031</td>\n",
       "      <td>18165</td>\n",
       "      <td>16b66603d15e11c8</td>\n",
       "      <td>16b66603d15e11c8</td>\n",
       "      <td>2019-06-17 16:58:31</td>\n",
       "      <td>16:58:31</td>\n",
       "      <td>The best of Gmail, wherever you are</td>\n",
       "      <td>mail-noreply@google.com</td>\n",
       "      <td>b' The best of Gmail, wherever you are\\r\\n[ima...</td>\n",
       "      <td>Hi Diligências Get the official Gmail app The ...</td>\n",
       "      <td>1</td>\n",
       "      <td>/home/dev/sigo_prod/_attachments/16b66603d15e11c8</td>\n",
       "      <td></td>\n",
       "      <td></td>\n",
       "      <td>2020-07-05 14:32:50</td>\n",
       "      <td>2020-07-05 14:32:50</td>\n",
       "      <td>N</td>\n",
       "      <td>2019-06-17 16:58:31</td>\n",
       "    </tr>\n",
       "  </tbody>\n",
       "</table>\n",
       "<p>21032 rows × 17 columns</p>\n",
       "</div>"
      ],
      "text/plain": [
       "       main_id           mail_id         thread_id  mail_date_received  \\\n",
       "0        20431  173204e94756418c  173204e94756418c 2020-07-05 18:48:05   \n",
       "1        20705  1731fb2f8e4d0333  172e8114b9fc31a2 2020-07-05 15:58:07   \n",
       "2        17787  1731c6b040272500  1731c6b040272500 2020-07-05 00:40:39   \n",
       "3        20158  1731c45e53dfea27  1731c45e53dfea27 2020-07-05 00:00:08   \n",
       "4        21322  1731c3e7602dd3bf  1731c3e7602dd3bf 2020-07-04 23:51:59   \n",
       "...        ...               ...               ...                 ...   \n",
       "21027    10228  16b6cb501fd2e09b  16b6cb501fd2e09b 2019-06-18 22:28:47   \n",
       "21028    15808  16b6cb4361be635d  16b6cb4361be635d 2019-06-18 22:27:56   \n",
       "21029    18497  16b66762fb0fb689  16b66762fb0fb689 2019-06-17 17:22:28   \n",
       "21030     5473  16b66603ebd89f26  16b66603ebd89f26 2019-06-17 16:58:32   \n",
       "21031    18165  16b66603d15e11c8  16b66603d15e11c8 2019-06-17 16:58:31   \n",
       "\n",
       "      mail_hms_received                                       mail_subject  \\\n",
       "0              18:48:05  FWD: [0-0910000031240] BR Data Request, Ext Re...   \n",
       "1              15:58:07  Re: [0-9910000030529] - FEDERAL - JFMG - c 202...   \n",
       "2              00:40:39  Fwd: [3-1026000030833] Novo Fornecimento de Da...   \n",
       "3              00:00:08  FWD: [8-5284000030790] BR Data Request, Ext Re...   \n",
       "4              23:51:59  FWD: [1-7034000030875] BR Data Request, Ext Re...   \n",
       "...                 ...                                                ...   \n",
       "21027          22:28:47  Diligência - Procuradoria da República no Rio ...   \n",
       "21028          22:27:56  Diligência - Delegacia de Polícia de Goianésia...   \n",
       "21029          17:22:28                                              Teste   \n",
       "21030          16:58:32                      Tips for using your new inbox   \n",
       "21031          16:58:31                The best of Gmail, wherever you are   \n",
       "\n",
       "                          mail_from  \\\n",
       "0              lis-latam@google.com   \n",
       "1              lis-latam@google.com   \n",
       "2              lis-latam@google.com   \n",
       "3              lis-latam@google.com   \n",
       "4              lis-latam@google.com   \n",
       "...                             ...   \n",
       "21027  helena.rossi@carinaquito.com   \n",
       "21028  helena.rossi@carinaquito.com   \n",
       "21029  paula.aragao@carinaquito.com   \n",
       "21030       mail-noreply@google.com   \n",
       "21031       mail-noreply@google.com   \n",
       "\n",
       "                                               mail_body  \\\n",
       "0      b'\\r\\n\\r\\nUrgent: 3 days deadline\\r\\n\\r\\nRecor...   \n",
       "1      b'Hi team,\\r\\n\\r\\nOn July 3, LE withdrew the C...   \n",
       "2      b'\\r\\n\\r\\nUrgent - fines\\r\\n\\r\\nHi team,\\r\\n\\r...   \n",
       "3      b'\\r\\n\\r\\nUrgent - 3 day deadline\\r\\n\\r\\nRecor...   \n",
       "4      b'\\r\\n\\r\\nUrgent - fines\\r\\n\\r\\nRecords # [005...   \n",
       "...                                                  ...   \n",
       "21027  b'Dra. Carolina,\\r\\n\\r\\n \\r\\n\\r\\nConforme fala...   \n",
       "21028  b'Dra. Thalita,\\r\\n\\r\\n \\r\\n\\r\\nConforme falam...   \n",
       "21029             b' \\r\\n\\r\\n \\r\\n\\r\\n\\r\\n\\r\\n \\r\\n\\r\\n'   \n",
       "21030  b' Tips for using your new inbox\\r\\n[image: Go...   \n",
       "21031  b' The best of Gmail, wherever you are\\r\\n[ima...   \n",
       "\n",
       "                                       mail_body_snippet  has_attachment  \\\n",
       "0      Urgent: 3 days deadline Records #[005/2.20.000...               2   \n",
       "1      Hi team, On July 3, LE withdrew the Case on LE...               1   \n",
       "2      Urgent - fines Hi team, Please see below the r...               2   \n",
       "3      Urgent - 3 day deadline Records # [005/2.20.00...               2   \n",
       "4      Urgent - fines Records # [0050664-90.2020.8.06...               2   \n",
       "...                                                  ...             ...   \n",
       "21027  Dra. Carolina, Conforme falamos mais cedo, env...               1   \n",
       "21028  Dra. Thalita, Conforme falamos, enviaremos por...               1   \n",
       "21029                                                                  1   \n",
       "21030  Hi Diligências Welcome to your Gmail inbox Sav...               1   \n",
       "21031  Hi Diligências Get the official Gmail app The ...               1   \n",
       "\n",
       "                                  attachment_folder_link          case_id  \\\n",
       "0      /home/dev/sigo_prod/_attachments/173204e94756418c  0-0910000031240   \n",
       "1      /home/dev/sigo_prod/_attachments/1731fb2f8e4d0333  0-9910000030529   \n",
       "2      /home/dev/sigo_prod/_attachments/1731c6b040272500  3-1026000030833   \n",
       "3      /home/dev/sigo_prod/_attachments/1731c45e53dfea27  8-5284000030790   \n",
       "4      /home/dev/sigo_prod/_attachments/1731c3e7602dd3bf  1-7034000030875   \n",
       "...                                                  ...              ...   \n",
       "21027  /home/dev/sigo_prod/_attachments/16b6cb501fd2e09b                    \n",
       "21028  /home/dev/sigo_prod/_attachments/16b6cb4361be635d                    \n",
       "21029  /home/dev/sigo_prod/_attachments/16b66762fb0fb689                    \n",
       "21030  /home/dev/sigo_prod/_attachments/16b66603ebd89f26                    \n",
       "21031  /home/dev/sigo_prod/_attachments/16b66603d15e11c8                    \n",
       "\n",
       "             external_ref_number        date_created        date_updated  \\\n",
       "0      0002028-66.2020.8.21.0005 2020-07-05 19:31:43 2020-07-05 19:31:43   \n",
       "1      1018233-11.2020.4.01.3800 2020-07-05 19:42:59 2020-07-05 19:42:59   \n",
       "2      0050664-90.2020.8.06.0034 2020-07-05 14:21:29 2020-07-05 14:21:29   \n",
       "3      0001977-55.2020.8.21.0005 2020-07-05 17:07:07 2020-07-05 17:07:07   \n",
       "4      0050664-90.2020.8.06.0034 2020-07-05 20:25:32 2020-07-05 20:25:32   \n",
       "...                          ...                 ...                 ...   \n",
       "21027                            2020-07-01 18:47:18 2020-07-01 18:47:18   \n",
       "21028                            2020-07-01 22:24:50 2020-07-01 22:24:50   \n",
       "21029                            2020-07-05 14:43:04 2020-07-05 14:43:04   \n",
       "21030                            2020-07-01 14:57:03 2020-07-01 14:57:03   \n",
       "21031                            2020-07-05 14:32:50 2020-07-05 14:32:50   \n",
       "\n",
       "      checkd mail_datetime_received  \n",
       "0          N    2020-07-05 18:48:05  \n",
       "1          N    2020-07-05 15:58:07  \n",
       "2          N    2020-07-05 00:40:39  \n",
       "3          N    2020-07-05 00:00:08  \n",
       "4          N    2020-07-04 23:51:59  \n",
       "...      ...                    ...  \n",
       "21027      N    2019-06-18 22:28:47  \n",
       "21028      N    2019-06-18 22:27:56  \n",
       "21029      N    2019-06-17 17:22:28  \n",
       "21030      N    2019-06-17 16:58:32  \n",
       "21031      N    2019-06-17 16:58:31  \n",
       "\n",
       "[21032 rows x 17 columns]"
      ]
     },
     "execution_count": 13,
     "metadata": {},
     "output_type": "execute_result"
    }
   ],
   "source": [
    "df_full = cqdb_prod.GetTable('Screening')\n",
    "\n",
    "## converting to time object\n",
    "df_full['mail_hms_received'] = pd.to_datetime(df_full['mail_hms_received']).dt.time\n",
    "\n",
    "## converting to datetime object\n",
    "df_full['mail_date_received'] = pd.to_datetime(df_full['mail_date_received'])\n",
    "\n",
    "\n",
    "## unifying date and time columns into one single datetime object:\n",
    "df_full['mail_datetime_received'] = pd.to_datetime(df_full['mail_date_received'].apply(str) +\\\n",
    "                                              ' ' + df_full['mail_hms_received'].apply(str))\n",
    "\n",
    "df_full['mail_datetime_received'] = pd.to_datetime(df_full['mail_datetime_received'])\n",
    "\n",
    "df_full = df_full.sort_values('mail_datetime_received', ascending = False).reset_index(drop = True)\n",
    "\n",
    "df_full"
   ]
  },
  {
   "cell_type": "code",
   "execution_count": null,
   "metadata": {},
   "outputs": [],
   "source": []
  },
  {
   "cell_type": "code",
   "execution_count": 14,
   "metadata": {
    "scrolled": true
   },
   "outputs": [],
   "source": [
    "#print(df_full['mail_body'][0].decode('utf-8'))"
   ]
  },
  {
   "cell_type": "code",
   "execution_count": null,
   "metadata": {},
   "outputs": [],
   "source": []
  },
  {
   "cell_type": "code",
   "execution_count": null,
   "metadata": {},
   "outputs": [],
   "source": []
  },
  {
   "cell_type": "code",
   "execution_count": null,
   "metadata": {},
   "outputs": [],
   "source": []
  },
  {
   "cell_type": "code",
   "execution_count": 15,
   "metadata": {},
   "outputs": [
    {
     "data": {
      "text/plain": [
       "<matplotlib.axes._subplots.AxesSubplot at 0x7efe93d8c610>"
      ]
     },
     "execution_count": 15,
     "metadata": {},
     "output_type": "execute_result"
    },
    {
     "data": {
      "image/png": "[encoded data removed]",
      "text/plain": [
       "<Figure size 1080x360 with 1 Axes>"
      ]
     },
     "metadata": {
      "needs_background": "light"
     },
     "output_type": "display_data"
    }
   ],
   "source": [
    "df_full.set_index('mail_date_received').resample('D')['mail_id'].apply(list).apply(len).plot(figsize = [15,5])"
   ]
  },
  {
   "cell_type": "code",
   "execution_count": null,
   "metadata": {},
   "outputs": [],
   "source": []
  },
  {
   "cell_type": "code",
   "execution_count": null,
   "metadata": {},
   "outputs": [],
   "source": []
  },
  {
   "cell_type": "code",
   "execution_count": 16,
   "metadata": {},
   "outputs": [],
   "source": [
    "df_mid = pd.read_csv(os.path.join(control_path, 'mid_base.csv'), sep = '\\t', encoding = 'utf-8')"
   ]
  },
  {
   "cell_type": "code",
   "execution_count": 17,
   "metadata": {},
   "outputs": [
    {
     "data": {
      "text/html": [
       "<div>\n",
       "<style scoped>\n",
       "    .dataframe tbody tr th:only-of-type {\n",
       "        vertical-align: middle;\n",
       "    }\n",
       "\n",
       "    .dataframe tbody tr th {\n",
       "        vertical-align: top;\n",
       "    }\n",
       "\n",
       "    .dataframe thead th {\n",
       "        text-align: right;\n",
       "    }\n",
       "</style>\n",
       "<table border=\"1\" class=\"dataframe\">\n",
       "  <thead>\n",
       "    <tr style=\"text-align: right;\">\n",
       "      <th></th>\n",
       "      <th>id</th>\n",
       "      <th>threadId</th>\n",
       "      <th>after</th>\n",
       "      <th>before</th>\n",
       "    </tr>\n",
       "  </thead>\n",
       "  <tbody>\n",
       "    <tr>\n",
       "      <td>0</td>\n",
       "      <td>1709e2dba8f969ad</td>\n",
       "      <td>1708d1d9ae8b8645</td>\n",
       "      <td>2018-01-01</td>\n",
       "      <td>2020-03-04</td>\n",
       "    </tr>\n",
       "    <tr>\n",
       "      <td>1</td>\n",
       "      <td>1709e261f35d80fd</td>\n",
       "      <td>1709e261f35d80fd</td>\n",
       "      <td>2018-01-01</td>\n",
       "      <td>2020-03-04</td>\n",
       "    </tr>\n",
       "    <tr>\n",
       "      <td>2</td>\n",
       "      <td>1709e1b9dd48e838</td>\n",
       "      <td>1709e1b9dd48e838</td>\n",
       "      <td>2018-01-01</td>\n",
       "      <td>2020-03-04</td>\n",
       "    </tr>\n",
       "    <tr>\n",
       "      <td>3</td>\n",
       "      <td>1709e1669f34cff4</td>\n",
       "      <td>170692f5e2c5f209</td>\n",
       "      <td>2018-01-01</td>\n",
       "      <td>2020-03-04</td>\n",
       "    </tr>\n",
       "    <tr>\n",
       "      <td>4</td>\n",
       "      <td>1709df0f2361e2b3</td>\n",
       "      <td>1709df0f2361e2b3</td>\n",
       "      <td>2018-01-01</td>\n",
       "      <td>2020-03-04</td>\n",
       "    </tr>\n",
       "    <tr>\n",
       "      <td>...</td>\n",
       "      <td>...</td>\n",
       "      <td>...</td>\n",
       "      <td>...</td>\n",
       "      <td>...</td>\n",
       "    </tr>\n",
       "    <tr>\n",
       "      <td>21110</td>\n",
       "      <td>17320d105d0b73eb</td>\n",
       "      <td>17320d105d0b73eb</td>\n",
       "      <td>2020-07-05</td>\n",
       "      <td>2020-07-06</td>\n",
       "    </tr>\n",
       "    <tr>\n",
       "      <td>21111</td>\n",
       "      <td>17320e5dd91199cf</td>\n",
       "      <td>17320d105d0b73eb</td>\n",
       "      <td>2020-07-05</td>\n",
       "      <td>2020-07-06</td>\n",
       "    </tr>\n",
       "    <tr>\n",
       "      <td>21112</td>\n",
       "      <td>173212e23c7b9fed</td>\n",
       "      <td>173212e23c7b9fed</td>\n",
       "      <td>2020-07-05</td>\n",
       "      <td>2020-07-06</td>\n",
       "    </tr>\n",
       "    <tr>\n",
       "      <td>21113</td>\n",
       "      <td>17323ee529887121</td>\n",
       "      <td>17323ee529887121</td>\n",
       "      <td>2020-07-06</td>\n",
       "      <td>2020-07-07</td>\n",
       "    </tr>\n",
       "    <tr>\n",
       "      <td>21114</td>\n",
       "      <td>17323e6556aecb33</td>\n",
       "      <td>17323e6556aecb33</td>\n",
       "      <td>2020-07-06</td>\n",
       "      <td>2020-07-07</td>\n",
       "    </tr>\n",
       "  </tbody>\n",
       "</table>\n",
       "<p>21115 rows × 4 columns</p>\n",
       "</div>"
      ],
      "text/plain": [
       "                     id          threadId       after      before\n",
       "0      1709e2dba8f969ad  1708d1d9ae8b8645  2018-01-01  2020-03-04\n",
       "1      1709e261f35d80fd  1709e261f35d80fd  2018-01-01  2020-03-04\n",
       "2      1709e1b9dd48e838  1709e1b9dd48e838  2018-01-01  2020-03-04\n",
       "3      1709e1669f34cff4  170692f5e2c5f209  2018-01-01  2020-03-04\n",
       "4      1709df0f2361e2b3  1709df0f2361e2b3  2018-01-01  2020-03-04\n",
       "...                 ...               ...         ...         ...\n",
       "21110  17320d105d0b73eb  17320d105d0b73eb  2020-07-05  2020-07-06\n",
       "21111  17320e5dd91199cf  17320d105d0b73eb  2020-07-05  2020-07-06\n",
       "21112  173212e23c7b9fed  173212e23c7b9fed  2020-07-05  2020-07-06\n",
       "21113  17323ee529887121  17323ee529887121  2020-07-06  2020-07-07\n",
       "21114  17323e6556aecb33  17323e6556aecb33  2020-07-06  2020-07-07\n",
       "\n",
       "[21115 rows x 4 columns]"
      ]
     },
     "execution_count": 17,
     "metadata": {},
     "output_type": "execute_result"
    }
   ],
   "source": [
    "df_mid"
   ]
  },
  {
   "cell_type": "code",
   "execution_count": null,
   "metadata": {},
   "outputs": [],
   "source": []
  },
  {
   "cell_type": "code",
   "execution_count": 18,
   "metadata": {},
   "outputs": [
    {
     "data": {
      "text/html": [
       "<div>\n",
       "<style scoped>\n",
       "    .dataframe tbody tr th:only-of-type {\n",
       "        vertical-align: middle;\n",
       "    }\n",
       "\n",
       "    .dataframe tbody tr th {\n",
       "        vertical-align: top;\n",
       "    }\n",
       "\n",
       "    .dataframe thead th {\n",
       "        text-align: right;\n",
       "    }\n",
       "</style>\n",
       "<table border=\"1\" class=\"dataframe\">\n",
       "  <thead>\n",
       "    <tr style=\"text-align: right;\">\n",
       "      <th></th>\n",
       "      <th>id</th>\n",
       "      <th>threadId</th>\n",
       "      <th>after</th>\n",
       "      <th>before</th>\n",
       "    </tr>\n",
       "  </thead>\n",
       "  <tbody>\n",
       "    <tr>\n",
       "      <td>19717</td>\n",
       "      <td>1730838f9d0a628b</td>\n",
       "      <td>1730365157aa6ad5</td>\n",
       "      <td>2020-07-01</td>\n",
       "      <td>2020-07-02</td>\n",
       "    </tr>\n",
       "    <tr>\n",
       "      <td>19718</td>\n",
       "      <td>173082f3ea9a8667</td>\n",
       "      <td>17281172f0ef8472</td>\n",
       "      <td>2020-07-01</td>\n",
       "      <td>2020-07-02</td>\n",
       "    </tr>\n",
       "    <tr>\n",
       "      <td>19719</td>\n",
       "      <td>1730828e53778db3</td>\n",
       "      <td>1730828e53778db3</td>\n",
       "      <td>2020-07-01</td>\n",
       "      <td>2020-07-02</td>\n",
       "    </tr>\n",
       "    <tr>\n",
       "      <td>19720</td>\n",
       "      <td>1730823982df7132</td>\n",
       "      <td>172f27e4f3f573f9</td>\n",
       "      <td>2020-07-01</td>\n",
       "      <td>2020-07-02</td>\n",
       "    </tr>\n",
       "    <tr>\n",
       "      <td>19721</td>\n",
       "      <td>173081f8682f389c</td>\n",
       "      <td>173081f8682f389c</td>\n",
       "      <td>2020-07-01</td>\n",
       "      <td>2020-07-02</td>\n",
       "    </tr>\n",
       "    <tr>\n",
       "      <td>...</td>\n",
       "      <td>...</td>\n",
       "      <td>...</td>\n",
       "      <td>...</td>\n",
       "      <td>...</td>\n",
       "    </tr>\n",
       "    <tr>\n",
       "      <td>19802</td>\n",
       "      <td>1730bf23c3234188</td>\n",
       "      <td>1730bf23c3234188</td>\n",
       "      <td>2020-07-01</td>\n",
       "      <td>2020-07-02</td>\n",
       "    </tr>\n",
       "    <tr>\n",
       "      <td>19803</td>\n",
       "      <td>1730bee2eb95c0e2</td>\n",
       "      <td>173072148a527067</td>\n",
       "      <td>2020-07-01</td>\n",
       "      <td>2020-07-02</td>\n",
       "    </tr>\n",
       "    <tr>\n",
       "      <td>19804</td>\n",
       "      <td>1730be86341621b0</td>\n",
       "      <td>1730be86341621b0</td>\n",
       "      <td>2020-07-01</td>\n",
       "      <td>2020-07-02</td>\n",
       "    </tr>\n",
       "    <tr>\n",
       "      <td>19805</td>\n",
       "      <td>1730be809a81c5a3</td>\n",
       "      <td>1730be809a81c5a3</td>\n",
       "      <td>2020-07-01</td>\n",
       "      <td>2020-07-02</td>\n",
       "    </tr>\n",
       "    <tr>\n",
       "      <td>19806</td>\n",
       "      <td>1730be21a105f7ad</td>\n",
       "      <td>1730be21a105f7ad</td>\n",
       "      <td>2020-07-01</td>\n",
       "      <td>2020-07-02</td>\n",
       "    </tr>\n",
       "  </tbody>\n",
       "</table>\n",
       "<p>90 rows × 4 columns</p>\n",
       "</div>"
      ],
      "text/plain": [
       "                     id          threadId       after      before\n",
       "19717  1730838f9d0a628b  1730365157aa6ad5  2020-07-01  2020-07-02\n",
       "19718  173082f3ea9a8667  17281172f0ef8472  2020-07-01  2020-07-02\n",
       "19719  1730828e53778db3  1730828e53778db3  2020-07-01  2020-07-02\n",
       "19720  1730823982df7132  172f27e4f3f573f9  2020-07-01  2020-07-02\n",
       "19721  173081f8682f389c  173081f8682f389c  2020-07-01  2020-07-02\n",
       "...                 ...               ...         ...         ...\n",
       "19802  1730bf23c3234188  1730bf23c3234188  2020-07-01  2020-07-02\n",
       "19803  1730bee2eb95c0e2  173072148a527067  2020-07-01  2020-07-02\n",
       "19804  1730be86341621b0  1730be86341621b0  2020-07-01  2020-07-02\n",
       "19805  1730be809a81c5a3  1730be809a81c5a3  2020-07-01  2020-07-02\n",
       "19806  1730be21a105f7ad  1730be21a105f7ad  2020-07-01  2020-07-02\n",
       "\n",
       "[90 rows x 4 columns]"
      ]
     },
     "execution_count": 18,
     "metadata": {},
     "output_type": "execute_result"
    }
   ],
   "source": [
    "df_mid[df_mid['after'] == '2020-07-01']"
   ]
  },
  {
   "cell_type": "code",
   "execution_count": null,
   "metadata": {},
   "outputs": [],
   "source": []
  },
  {
   "cell_type": "code",
   "execution_count": null,
   "metadata": {},
   "outputs": [],
   "source": []
  },
  {
   "cell_type": "code",
   "execution_count": null,
   "metadata": {},
   "outputs": [],
   "source": []
  }
 ],
 "metadata": {
  "kernelspec": {
   "display_name": "Python 3",
   "language": "python",
   "name": "python3"
  },
  "language_info": {
   "codemirror_mode": {
    "name": "ipython",
    "version": 3
   },
   "file_extension": ".py",
   "mimetype": "text/x-python",
   "name": "python",
   "nbconvert_exporter": "python",
   "pygments_lexer": "ipython3",
   "version": "3.7.4"
  },
  "toc": {
   "base_numbering": 1,
   "nav_menu": {},
   "number_sections": true,
   "sideBar": true,
   "skip_h1_title": false,
   "title_cell": "Table of Contents",
   "title_sidebar": "Contents",
   "toc_cell": false,
   "toc_position": {},
   "toc_section_display": true,
   "toc_window_display": false
  }
 },
 "nbformat": 4,
 "nbformat_minor": 2
}
